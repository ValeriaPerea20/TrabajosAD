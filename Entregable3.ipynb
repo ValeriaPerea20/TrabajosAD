{
  "nbformat": 4,
  "nbformat_minor": 0,
  "metadata": {
    "colab": {
      "provenance": [],
      "authorship_tag": "ABX9TyNEXm1AGbThZWf/Q/ihmOLN",
      "include_colab_link": true
    },
    "kernelspec": {
      "name": "python3",
      "display_name": "Python 3"
    },
    "language_info": {
      "name": "python"
    }
  },
  "cells": [
    {
      "cell_type": "markdown",
      "metadata": {
        "id": "view-in-github",
        "colab_type": "text"
      },
      "source": [
        "<a href=\"https://colab.research.google.com/github/ValeriaPerea20/TrabajosAD/blob/main/Entregable3.ipynb\" target=\"_parent\"><img src=\"https://colab.research.google.com/assets/colab-badge.svg\" alt=\"Open In Colab\"/></a>"
      ]
    },
    {
      "cell_type": "markdown",
      "source": [
        "Parte 1: Identificación de Problemas en los Datos\n",
        "- Exploración inicial del dataset:\n",
        "• Cargar los datos con Pandas y usar funciones como .isnull(), .duplicated(), y\n",
        ".value_counts() sobre la columna “City”."
      ],
      "metadata": {
        "id": "FvSk5cwx-npB"
      }
    },
    {
      "cell_type": "code",
      "execution_count": null,
      "metadata": {
        "colab": {
          "base_uri": "https://localhost:8080/",
          "height": 73
        },
        "collapsed": true,
        "id": "Tw-q7dwu9NHx",
        "outputId": "2456f2f4-b2d4-4a7e-e296-f4d199ac142e"
      },
      "outputs": [
        {
          "output_type": "display_data",
          "data": {
            "text/plain": [
              "<IPython.core.display.HTML object>"
            ],
            "text/html": [
              "\n",
              "     <input type=\"file\" id=\"files-1527a80b-55eb-4204-bbfc-c0c0e1d045a4\" name=\"files[]\" multiple disabled\n",
              "        style=\"border:none\" />\n",
              "     <output id=\"result-1527a80b-55eb-4204-bbfc-c0c0e1d045a4\">\n",
              "      Upload widget is only available when the cell has been executed in the\n",
              "      current browser session. Please rerun this cell to enable.\n",
              "      </output>\n",
              "      <script>// Copyright 2017 Google LLC\n",
              "//\n",
              "// Licensed under the Apache License, Version 2.0 (the \"License\");\n",
              "// you may not use this file except in compliance with the License.\n",
              "// You may obtain a copy of the License at\n",
              "//\n",
              "//      http://www.apache.org/licenses/LICENSE-2.0\n",
              "//\n",
              "// Unless required by applicable law or agreed to in writing, software\n",
              "// distributed under the License is distributed on an \"AS IS\" BASIS,\n",
              "// WITHOUT WARRANTIES OR CONDITIONS OF ANY KIND, either express or implied.\n",
              "// See the License for the specific language governing permissions and\n",
              "// limitations under the License.\n",
              "\n",
              "/**\n",
              " * @fileoverview Helpers for google.colab Python module.\n",
              " */\n",
              "(function(scope) {\n",
              "function span(text, styleAttributes = {}) {\n",
              "  const element = document.createElement('span');\n",
              "  element.textContent = text;\n",
              "  for (const key of Object.keys(styleAttributes)) {\n",
              "    element.style[key] = styleAttributes[key];\n",
              "  }\n",
              "  return element;\n",
              "}\n",
              "\n",
              "// Max number of bytes which will be uploaded at a time.\n",
              "const MAX_PAYLOAD_SIZE = 100 * 1024;\n",
              "\n",
              "function _uploadFiles(inputId, outputId) {\n",
              "  const steps = uploadFilesStep(inputId, outputId);\n",
              "  const outputElement = document.getElementById(outputId);\n",
              "  // Cache steps on the outputElement to make it available for the next call\n",
              "  // to uploadFilesContinue from Python.\n",
              "  outputElement.steps = steps;\n",
              "\n",
              "  return _uploadFilesContinue(outputId);\n",
              "}\n",
              "\n",
              "// This is roughly an async generator (not supported in the browser yet),\n",
              "// where there are multiple asynchronous steps and the Python side is going\n",
              "// to poll for completion of each step.\n",
              "// This uses a Promise to block the python side on completion of each step,\n",
              "// then passes the result of the previous step as the input to the next step.\n",
              "function _uploadFilesContinue(outputId) {\n",
              "  const outputElement = document.getElementById(outputId);\n",
              "  const steps = outputElement.steps;\n",
              "\n",
              "  const next = steps.next(outputElement.lastPromiseValue);\n",
              "  return Promise.resolve(next.value.promise).then((value) => {\n",
              "    // Cache the last promise value to make it available to the next\n",
              "    // step of the generator.\n",
              "    outputElement.lastPromiseValue = value;\n",
              "    return next.value.response;\n",
              "  });\n",
              "}\n",
              "\n",
              "/**\n",
              " * Generator function which is called between each async step of the upload\n",
              " * process.\n",
              " * @param {string} inputId Element ID of the input file picker element.\n",
              " * @param {string} outputId Element ID of the output display.\n",
              " * @return {!Iterable<!Object>} Iterable of next steps.\n",
              " */\n",
              "function* uploadFilesStep(inputId, outputId) {\n",
              "  const inputElement = document.getElementById(inputId);\n",
              "  inputElement.disabled = false;\n",
              "\n",
              "  const outputElement = document.getElementById(outputId);\n",
              "  outputElement.innerHTML = '';\n",
              "\n",
              "  const pickedPromise = new Promise((resolve) => {\n",
              "    inputElement.addEventListener('change', (e) => {\n",
              "      resolve(e.target.files);\n",
              "    });\n",
              "  });\n",
              "\n",
              "  const cancel = document.createElement('button');\n",
              "  inputElement.parentElement.appendChild(cancel);\n",
              "  cancel.textContent = 'Cancel upload';\n",
              "  const cancelPromise = new Promise((resolve) => {\n",
              "    cancel.onclick = () => {\n",
              "      resolve(null);\n",
              "    };\n",
              "  });\n",
              "\n",
              "  // Wait for the user to pick the files.\n",
              "  const files = yield {\n",
              "    promise: Promise.race([pickedPromise, cancelPromise]),\n",
              "    response: {\n",
              "      action: 'starting',\n",
              "    }\n",
              "  };\n",
              "\n",
              "  cancel.remove();\n",
              "\n",
              "  // Disable the input element since further picks are not allowed.\n",
              "  inputElement.disabled = true;\n",
              "\n",
              "  if (!files) {\n",
              "    return {\n",
              "      response: {\n",
              "        action: 'complete',\n",
              "      }\n",
              "    };\n",
              "  }\n",
              "\n",
              "  for (const file of files) {\n",
              "    const li = document.createElement('li');\n",
              "    li.append(span(file.name, {fontWeight: 'bold'}));\n",
              "    li.append(span(\n",
              "        `(${file.type || 'n/a'}) - ${file.size} bytes, ` +\n",
              "        `last modified: ${\n",
              "            file.lastModifiedDate ? file.lastModifiedDate.toLocaleDateString() :\n",
              "                                    'n/a'} - `));\n",
              "    const percent = span('0% done');\n",
              "    li.appendChild(percent);\n",
              "\n",
              "    outputElement.appendChild(li);\n",
              "\n",
              "    const fileDataPromise = new Promise((resolve) => {\n",
              "      const reader = new FileReader();\n",
              "      reader.onload = (e) => {\n",
              "        resolve(e.target.result);\n",
              "      };\n",
              "      reader.readAsArrayBuffer(file);\n",
              "    });\n",
              "    // Wait for the data to be ready.\n",
              "    let fileData = yield {\n",
              "      promise: fileDataPromise,\n",
              "      response: {\n",
              "        action: 'continue',\n",
              "      }\n",
              "    };\n",
              "\n",
              "    // Use a chunked sending to avoid message size limits. See b/62115660.\n",
              "    let position = 0;\n",
              "    do {\n",
              "      const length = Math.min(fileData.byteLength - position, MAX_PAYLOAD_SIZE);\n",
              "      const chunk = new Uint8Array(fileData, position, length);\n",
              "      position += length;\n",
              "\n",
              "      const base64 = btoa(String.fromCharCode.apply(null, chunk));\n",
              "      yield {\n",
              "        response: {\n",
              "          action: 'append',\n",
              "          file: file.name,\n",
              "          data: base64,\n",
              "        },\n",
              "      };\n",
              "\n",
              "      let percentDone = fileData.byteLength === 0 ?\n",
              "          100 :\n",
              "          Math.round((position / fileData.byteLength) * 100);\n",
              "      percent.textContent = `${percentDone}% done`;\n",
              "\n",
              "    } while (position < fileData.byteLength);\n",
              "  }\n",
              "\n",
              "  // All done.\n",
              "  yield {\n",
              "    response: {\n",
              "      action: 'complete',\n",
              "    }\n",
              "  };\n",
              "}\n",
              "\n",
              "scope.google = scope.google || {};\n",
              "scope.google.colab = scope.google.colab || {};\n",
              "scope.google.colab._files = {\n",
              "  _uploadFiles,\n",
              "  _uploadFilesContinue,\n",
              "};\n",
              "})(self);\n",
              "</script> "
            ]
          },
          "metadata": {}
        },
        {
          "output_type": "stream",
          "name": "stdout",
          "text": [
            "Saving CSV Laboratorio 3 AD-B.csv to CSV Laboratorio 3 AD-B.csv\n"
          ]
        }
      ],
      "source": [
        "from google.colab import files\n",
        "uploaded = files.upload()"
      ]
    },
    {
      "cell_type": "code",
      "source": [
        "import pandas as pd\n",
        "\n",
        "datos = pd.read_csv('CSV Laboratorio 3 AD-B.csv')\n",
        "\n",
        "print(datos.head())\n",
        "\n",
        "# Valores nulos en City\n",
        "print(\"Valores nulos en la columna City\")\n",
        "print(datos['City'].isnull().sum())\n",
        "\n",
        "# Duplicados en City\n",
        "print(\"Duplicados en la columna City\")\n",
        "print(datos['City'].duplicated().sum())\n",
        "\n",
        "# Valores únicos en City\n",
        "print(\"Valores únicos en la columna City\")\n",
        "print(datos['City'].value_counts())"
      ],
      "metadata": {
        "colab": {
          "base_uri": "https://localhost:8080/"
        },
        "id": "-FW_-Hn8-28D",
        "outputId": "42fbfba3-f1e6-4ff6-f5bf-b2f51d42a5d2"
      },
      "execution_count": 29,
      "outputs": [
        {
          "output_type": "stream",
          "name": "stdout",
          "text": [
            "   ID     Name    Category      City  Value        Date\n",
            "0   1  Charlie       Cat C   Chicago   46.0   4/13/2023\n",
            "1   2     Jane       Cat C   Houston   53.0  12/15/2023\n",
            "2   3     Jane  category a   Chicago   68.0   9/28/2023\n",
            "3   4     John         NaN  New York   97.0   4/17/2023\n",
            "4   5     Jane       Cat C   Houston   71.0   3/13/2023\n",
            "Valores nulos en la columna City\n",
            "15\n",
            "Duplicados en la columna City\n",
            "55\n",
            "Valores únicos en la columna City\n",
            "City\n",
            "Chicago        13\n",
            "Houston        13\n",
            "New York       12\n",
            "Los Angeles     7\n",
            "Name: count, dtype: int64\n"
          ]
        }
      ]
    },
    {
      "cell_type": "markdown",
      "source": [
        "Parte 2: Limpieza de Datos con Python\n",
        "- Corrección de errores:\n",
        "• Eliminar o reemplazar valores nulos (fillna, dropna).\n",
        "• Eliminar duplicados con .drop_duplicates().\n",
        "• Normalización de formatos en columnas (e.g., convertir texto a minúsculas,\n",
        "estandarizar fechas al formato AAAA/MM/DD con pd.to_datetime).\n",
        "• Estandarizar formato de “Category”.\n",
        "- Validación del dataset limpio: Revisar nuevamente el dataset para asegurar que los\n",
        "problemas han sido corregidos.\n",
        "- Exportar el dataset limpio en extensión CSV ya que se usará para el siguiente laboratorio."
      ],
      "metadata": {
        "id": "xondxYsPAhpg"
      }
    },
    {
      "cell_type": "code",
      "source": [
        "# Eliminar o remplazar valores nulos\n",
        "datos = datos.dropna()\n",
        "\n",
        "# Eliminar duplicados\n",
        "datos = datos.drop_duplicates()\n",
        "\n",
        "# Normalizar formatos en columnas\n",
        "datos['City'] = datos['City'].str.upper()\n",
        "\n",
        "# Normalizar formato fechas\n",
        "datos['Date'] = pd.to_datetime(datos['Date'])\n",
        "\n",
        "# Estandarizar formato de Category\n",
        "datos['Category'] = datos['Category'].str.capitalize()\n",
        "# Cambiar Car c por Category C\n",
        "datos['Category'] = datos['Category'].str.replace('Cat c', 'Category c')\n",
        "datos['Category'] = datos['Category'].str.replace('Cat-c', 'Category c')"
      ],
      "metadata": {
        "id": "HPRiumdzAhLD"
      },
      "execution_count": null,
      "outputs": []
    },
    {
      "cell_type": "code",
      "source": [
        "print(datos)"
      ],
      "metadata": {
        "colab": {
          "base_uri": "https://localhost:8080/"
        },
        "id": "hnWaxQOECgmZ",
        "outputId": "28ba6a01-c794-4f0d-b704-acc797c9751c"
      },
      "execution_count": null,
      "outputs": [
        {
          "output_type": "stream",
          "name": "stdout",
          "text": [
            "    ID     Name    Category         City  Value       Date\n",
            "0    1  Charlie  Category c      CHICAGO   46.0 2023-04-13\n",
            "1    2     Jane  Category c      HOUSTON   53.0 2023-12-15\n",
            "2    3     Jane  Category a      CHICAGO   68.0 2023-09-28\n",
            "4    5     Jane  Category c      HOUSTON   71.0 2023-03-13\n",
            "5    6      Eve  Category a  LOS ANGELES   61.0 2023-07-08\n",
            "6    7     Jane  Category a      CHICAGO   48.0 2023-01-21\n",
            "7    8      Bob  Category b     NEW YORK   65.0 2023-04-13\n",
            "9   10     Dave  Category b  LOS ANGELES   11.0 2023-08-03\n",
            "11  12     Dave  Category a      HOUSTON   10.0 2023-03-29\n",
            "12  13      Bob  Category c      CHICAGO   11.0 2023-04-10\n",
            "15  16     Dave  Category a      HOUSTON   64.0 2023-05-11\n",
            "18  19     John  Category a      HOUSTON   79.0 2023-09-15\n",
            "19  20      Bob  Category a      CHICAGO   25.0 2023-12-10\n",
            "20  21     Jane  Category b      HOUSTON   68.0 2023-10-21\n",
            "22  23      Bob  Category b      HOUSTON   68.0 2023-10-04\n",
            "23  24     Jane  Category b      CHICAGO   99.0 2023-06-10\n",
            "24  25  Charlie  Category a      CHICAGO   28.0 2023-11-10\n",
            "26  27  Charlie  Category b  LOS ANGELES   42.0 2023-09-10\n",
            "27  28     Jane  Category a  LOS ANGELES   48.0 2023-08-24\n",
            "28  29      Bob  Category b      HOUSTON   10.0 2023-12-11\n",
            "29  30  Charlie  Category c     NEW YORK   66.0 2023-02-18\n",
            "30  31      Eve  Category a      HOUSTON   32.0 2023-02-28\n",
            "36  37     Jane  Category a      CHICAGO   46.0 2023-02-20\n",
            "37  38  Charlie  Category b  LOS ANGELES   18.0 2023-12-30\n",
            "39  40  Charlie  Category a     NEW YORK   12.0 2023-09-01\n",
            "42  43     Dave  Category c     NEW YORK   81.0 2023-11-03\n",
            "43  44    Grace  Category c      CHICAGO   93.0 2023-05-15\n",
            "44  45  Charlie  Category b     NEW YORK   98.0 2023-01-21\n",
            "46  47      Bob  Category c      HOUSTON   91.0 2023-06-16\n",
            "47  48     John  Category b     NEW YORK   44.0 2023-10-01\n",
            "48  49  Charlie  Category b      CHICAGO   50.0 2023-03-30\n",
            "49  50    Grace  Category a      CHICAGO   77.0 2023-11-12\n"
          ]
        }
      ]
    },
    {
      "cell_type": "code",
      "source": [
        "datos.to_csv('datos_limpios.csv')"
      ],
      "metadata": {
        "id": "yKKaRb9HDG52"
      },
      "execution_count": 26,
      "outputs": []
    },
    {
      "cell_type": "code",
      "source": [
        "from google.colab import files\n",
        "files.download('datos_limpios.csv')"
      ],
      "metadata": {
        "colab": {
          "base_uri": "https://localhost:8080/",
          "height": 17
        },
        "id": "T7rtdkKJJxcN",
        "outputId": "8e484830-d3bc-4187-9b71-29d3bdd1a5cc"
      },
      "execution_count": 27,
      "outputs": [
        {
          "output_type": "display_data",
          "data": {
            "text/plain": [
              "<IPython.core.display.Javascript object>"
            ],
            "application/javascript": [
              "\n",
              "    async function download(id, filename, size) {\n",
              "      if (!google.colab.kernel.accessAllowed) {\n",
              "        return;\n",
              "      }\n",
              "      const div = document.createElement('div');\n",
              "      const label = document.createElement('label');\n",
              "      label.textContent = `Downloading \"${filename}\": `;\n",
              "      div.appendChild(label);\n",
              "      const progress = document.createElement('progress');\n",
              "      progress.max = size;\n",
              "      div.appendChild(progress);\n",
              "      document.body.appendChild(div);\n",
              "\n",
              "      const buffers = [];\n",
              "      let downloaded = 0;\n",
              "\n",
              "      const channel = await google.colab.kernel.comms.open(id);\n",
              "      // Send a message to notify the kernel that we're ready.\n",
              "      channel.send({})\n",
              "\n",
              "      for await (const message of channel.messages) {\n",
              "        // Send a message to notify the kernel that we're ready.\n",
              "        channel.send({})\n",
              "        if (message.buffers) {\n",
              "          for (const buffer of message.buffers) {\n",
              "            buffers.push(buffer);\n",
              "            downloaded += buffer.byteLength;\n",
              "            progress.value = downloaded;\n",
              "          }\n",
              "        }\n",
              "      }\n",
              "      const blob = new Blob(buffers, {type: 'application/binary'});\n",
              "      const a = document.createElement('a');\n",
              "      a.href = window.URL.createObjectURL(blob);\n",
              "      a.download = filename;\n",
              "      div.appendChild(a);\n",
              "      a.click();\n",
              "      div.remove();\n",
              "    }\n",
              "  "
            ]
          },
          "metadata": {}
        },
        {
          "output_type": "display_data",
          "data": {
            "text/plain": [
              "<IPython.core.display.Javascript object>"
            ],
            "application/javascript": [
              "download(\"download_09f0cf3e-362b-4c0d-a8d1-f3bb6ff91f63\", \"datos_limpios.csv\", 1535)"
            ]
          },
          "metadata": {}
        }
      ]
    }
  ]
}